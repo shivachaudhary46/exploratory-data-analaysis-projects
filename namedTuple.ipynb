{
 "cells": [
  {
   "cell_type": "markdown",
   "id": "9e2b8007-54f0-429a-adec-2a56f5de2751",
   "metadata": {},
   "source": [
    "# Named Tuple\n",
    "\n",
    "It provides a way to create simple, lightweight data structures similar to a class, but without the overhead of defining a full class"
   ]
  },
  {
   "cell_type": "code",
   "execution_count": 2,
   "id": "5cd067ae-106b-4147-b4ac-d4b75e1f4cf8",
   "metadata": {},
   "outputs": [],
   "source": [
    "from collections import namedtuple\n"
   ]
  },
  {
   "cell_type": "code",
   "execution_count": 3,
   "id": "766fba4a-fe79-4ddb-943f-366db24b133b",
   "metadata": {},
   "outputs": [],
   "source": [
    "point = namedtuple('point_2D', ['x', 'y'])\n"
   ]
  },
  {
   "cell_type": "code",
   "execution_count": 5,
   "id": "e9d466e5-aa14-4e41-b2d7-bcc84ce8d918",
   "metadata": {},
   "outputs": [],
   "source": [
    "new_point = point(50, 60)"
   ]
  },
  {
   "cell_type": "code",
   "execution_count": 7,
   "id": "084efcea-1456-43ff-81eb-f336a3a23f4c",
   "metadata": {},
   "outputs": [
    {
     "name": "stdout",
     "output_type": "stream",
     "text": [
      "point_2D(x=50, y=60)\n"
     ]
    }
   ],
   "source": [
    "print(new_point)"
   ]
  },
  {
   "cell_type": "code",
   "execution_count": 9,
   "id": "fb1a35f2-f3b0-4d70-a778-926791903411",
   "metadata": {},
   "outputs": [
    {
     "name": "stdout",
     "output_type": "stream",
     "text": [
      "True\n"
     ]
    }
   ],
   "source": [
    "print(isinstance(new_point, point))"
   ]
  },
  {
   "cell_type": "code",
   "execution_count": 10,
   "id": "6216fe4a-3710-4fa8-a63f-fa125385abb9",
   "metadata": {},
   "outputs": [
    {
     "name": "stdout",
     "output_type": "stream",
     "text": [
      "True\n"
     ]
    }
   ],
   "source": [
    "print(isinstance(new_point, tuple))"
   ]
  },
  {
   "cell_type": "code",
   "execution_count": 12,
   "id": "490e2535-b705-4bf2-99d6-915fd088e606",
   "metadata": {},
   "outputs": [
    {
     "name": "stdout",
     "output_type": "stream",
     "text": [
      "50 60\n"
     ]
    }
   ],
   "source": [
    "#unpacking the tuple \n",
    "X, y = new_point\n",
    "print(f\"{X} {y}\")"
   ]
  },
  {
   "cell_type": "code",
   "execution_count": 14,
   "id": "bdb0ebc2-ab48-440e-890f-c16649d5411c",
   "metadata": {},
   "outputs": [
    {
     "name": "stdout",
     "output_type": "stream",
     "text": [
      "(50 60)\n"
     ]
    }
   ],
   "source": [
    "#indexing numbers\n",
    "X = new_point[0]\n",
    "y = new_point[1]\n",
    "print(f\"({X} {y})\")"
   ]
  },
  {
   "cell_type": "code",
   "execution_count": 16,
   "id": "1c3a6248-df90-4fde-b103-093c55025a88",
   "metadata": {},
   "outputs": [
    {
     "name": "stdout",
     "output_type": "stream",
     "text": [
      "50\n",
      "60\n"
     ]
    }
   ],
   "source": [
    "#iterate over new_point \n",
    "for item in new_point:\n",
    "    print(item)"
   ]
  },
  {
   "cell_type": "code",
   "execution_count": 17,
   "id": "65928240-2809-4628-8db2-a57bc7f5bf73",
   "metadata": {},
   "outputs": [],
   "source": [
    "new_circle = namedtuple('new_circle', 'center_x, center_y, _radius', rename=True) "
   ]
  },
  {
   "cell_type": "code",
   "execution_count": 18,
   "id": "85b16c0c-ea16-466b-a44b-43771f6c445e",
   "metadata": {},
   "outputs": [
    {
     "name": "stdout",
     "output_type": "stream",
     "text": [
      "<class '__main__.new_circle'>\n"
     ]
    }
   ],
   "source": [
    "print(new_circle)"
   ]
  },
  {
   "cell_type": "code",
   "execution_count": 19,
   "id": "dc2659f3-c677-44b1-9287-ac4f456fa3a3",
   "metadata": {},
   "outputs": [
    {
     "data": {
      "text/plain": [
       "__main__.new_circle"
      ]
     },
     "execution_count": 19,
     "metadata": {},
     "output_type": "execute_result"
    }
   ],
   "source": [
    "new_circle"
   ]
  },
  {
   "cell_type": "code",
   "execution_count": null,
   "id": "68c42c53-9404-433e-a9c1-9df3cf9ad66d",
   "metadata": {},
   "outputs": [],
   "source": []
  }
 ],
 "metadata": {
  "kernelspec": {
   "display_name": "Python 3 (ipykernel)",
   "language": "python",
   "name": "python3"
  },
  "language_info": {
   "codemirror_mode": {
    "name": "ipython",
    "version": 3
   },
   "file_extension": ".py",
   "mimetype": "text/x-python",
   "name": "python",
   "nbconvert_exporter": "python",
   "pygments_lexer": "ipython3",
   "version": "3.13.1"
  }
 },
 "nbformat": 4,
 "nbformat_minor": 5
}
