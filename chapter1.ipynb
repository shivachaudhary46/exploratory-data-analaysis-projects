{
 "cells": [
  {
   "cell_type": "code",
   "execution_count": 1,
   "id": "58fb4b37-b5c3-405b-9c9e-feb5524e5bd0",
   "metadata": {},
   "outputs": [],
   "source": [
    "#imports \n",
    "\n",
    "import  pandas as pd\n",
    "import numpy as np\n",
    "import matplotlib.pylab as plt\n",
    "import seaborn as sns \n"
   ]
  },
  {
   "cell_type": "code",
   "execution_count": 3,
   "id": "d5872ba0-241a-4168-92fe-615dace01a35",
   "metadata": {},
   "outputs": [
    {
     "data": {
      "text/plain": [
       "{0: -0.7520868554490735,\n",
       " 1: 1.445453426493644,\n",
       " 2: -0.8638556208703466,\n",
       " 3: -0.13171901521872076,\n",
       " 4: 0.14722545371852983,\n",
       " 5: 0.3438283634835168,\n",
       " 6: 0.1619827315088304}"
      ]
     },
     "execution_count": 3,
     "metadata": {},
     "output_type": "execute_result"
    }
   ],
   "source": [
    "#generate random values from 0 to 7\n",
    "data = {i : np.random.randn() for i in range(7)}\n",
    "data"
   ]
  },
  {
   "cell_type": "code",
   "execution_count": null,
   "id": "1b7d2c4b-a239-416f-9748-1ecca2934e7c",
   "metadata": {},
   "outputs": [],
   "source": []
  }
 ],
 "metadata": {
  "kernelspec": {
   "display_name": "Python 3 (ipykernel)",
   "language": "python",
   "name": "python3"
  },
  "language_info": {
   "codemirror_mode": {
    "name": "ipython",
    "version": 3
   },
   "file_extension": ".py",
   "mimetype": "text/x-python",
   "name": "python",
   "nbconvert_exporter": "python",
   "pygments_lexer": "ipython3",
   "version": "3.13.1"
  }
 },
 "nbformat": 4,
 "nbformat_minor": 5
}
