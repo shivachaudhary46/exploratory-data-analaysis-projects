{
 "cells": [
  {
   "cell_type": "markdown",
   "id": "434152e4-aefc-4060-b79b-7bcfc0e84752",
   "metadata": {},
   "source": [
    "# Data structures: Stacks, Queues, Linked Lists \n"
   ]
  },
  {
   "cell_type": "markdown",
   "id": "a8506cbe-fad2-475b-a006-40f8844202e6",
   "metadata": {},
   "source": [
    "Stack is an Linear Data structures which follows the LIFO principle which is simply Last in First Out. A stack is kind of like an array, but more resembles a stack of things. you can push things onto the stack and pop things onto the stack. For example, imagine Stack of plate."
   ]
  },
  {
   "cell_type": "code",
   "execution_count": 13,
   "id": "0c03e7a2-c494-4d01-a44a-de45e1c38346",
   "metadata": {},
   "outputs": [],
   "source": [
    "class myStack:\n",
    "    def __init__(self):\n",
    "        self.container = []\n",
    "\n",
    "    def isEmpty(self):\n",
    "        return len(self.container) == 0\n",
    "\n",
    "    def push(self, item):\n",
    "        self.container.append(item)\n",
    "\n",
    "    def pop(self):\n",
    "        if self.isEmpty():\n",
    "            raise IndexError(\"pop from an empty stack\")\n",
    "        return self.container.pop()\n",
    "\n",
    "    def size(self):\n",
    "        return len(self.container)\n",
    "\n",
    "    def top(self):\n",
    "        if self.isEmpty():\n",
    "            raise IndexError(\"top from an empty stack\")\n",
    "        return self.container[-1]"
   ]
  },
  {
   "cell_type": "code",
   "execution_count": 14,
   "id": "a9490605-69df-4e9e-8041-88df83f1360b",
   "metadata": {},
   "outputs": [
    {
     "name": "stdout",
     "output_type": "stream",
     "text": [
      "Stack size :  3\n",
      "Top element :  67\n",
      "Popped element :  67\n",
      "Top element :  23\n",
      "Error: pop from an empty stack\n",
      "is stack is empty now :  True\n",
      "Error : top from an empty stack\n"
     ]
    }
   ],
   "source": [
    "#create an object of the myStack\n",
    "stack = myStack()\n",
    "\n",
    "stack.push(12)\n",
    "stack.push(23)\n",
    "stack.push(67)\n",
    "\n",
    "print(\"Stack size : \", stack.size())\n",
    "print(\"Top element : \", stack.top())\n",
    "print(\"Popped element : \", stack.pop())\n",
    "\n",
    "print(\"Top element : \", stack.top())\n",
    "stack.pop()\n",
    "stack.pop()\n",
    "\n",
    "#if we cannot pop more element in the stack raise an error \n",
    "try:\n",
    "    stack.pop()\n",
    "except IndexError as e:\n",
    "    print(\"Error:\", e)\n",
    "    \n",
    "print(\"is stack is empty now : \", stack.isEmpty())\n",
    "\n",
    "#if we cannot pop more element in the stack raise an error \n",
    "try:\n",
    "    stack.top()\n",
    "except IndexError as e:\n",
    "    print(\"Error :\", e)"
   ]
  },
  {
   "cell_type": "code",
   "execution_count": null,
   "id": "724a4a92-d609-495e-8029-b28121c5c3f2",
   "metadata": {},
   "outputs": [],
   "source": [
    "# Some real world examples of the stack are :\n",
    "![stack real world examples](stack.png)"
   ]
  },
  {
   "cell_type": "code",
   "execution_count": null,
   "id": "4f8f3cc1",
   "metadata": {},
   "outputs": [],
   "source": []
  }
 ],
 "metadata": {
  "kernelspec": {
   "display_name": "Python 3 (ipykernel)",
   "language": "python",
   "name": "python3"
  },
  "language_info": {
   "codemirror_mode": {
    "name": "ipython",
    "version": 3
   },
   "file_extension": ".py",
   "mimetype": "text/x-python",
   "name": "python",
   "nbconvert_exporter": "python",
   "pygments_lexer": "ipython3",
   "version": "3.13.1"
  }
 },
 "nbformat": 4,
 "nbformat_minor": 5
}
