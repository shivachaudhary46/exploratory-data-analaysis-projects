{
 "cells": [
  {
   "cell_type": "markdown",
   "id": "31b597c5-de69-45ad-bb91-5b11a48830cf",
   "metadata": {},
   "source": [
    "# Numbers"
   ]
  },
  {
   "cell_type": "code",
   "execution_count": 1,
   "id": "43581115-050f-4f38-b832-d59b5e0e5220",
   "metadata": {},
   "outputs": [
    {
     "data": {
      "text/plain": [
       "3"
      ]
     },
     "execution_count": 1,
     "metadata": {},
     "output_type": "execute_result"
    }
   ],
   "source": [
    "2+1"
   ]
  },
  {
   "cell_type": "code",
   "execution_count": 2,
   "id": "fd04178b-475b-486f-8a97-6fa4266cdc95",
   "metadata": {},
   "outputs": [
    {
     "data": {
      "text/plain": [
       "1"
      ]
     },
     "execution_count": 2,
     "metadata": {},
     "output_type": "execute_result"
    }
   ],
   "source": [
    "2-1"
   ]
  },
  {
   "cell_type": "code",
   "execution_count": 3,
   "id": "05444892-4c0c-444e-9032-4d6f17390470",
   "metadata": {},
   "outputs": [
    {
     "data": {
      "text/plain": [
       "4"
      ]
     },
     "execution_count": 3,
     "metadata": {},
     "output_type": "execute_result"
    }
   ],
   "source": [
    "2*2"
   ]
  },
  {
   "cell_type": "code",
   "execution_count": 4,
   "id": "2ade72eb-af33-48ce-a392-426c84d2570e",
   "metadata": {},
   "outputs": [
    {
     "data": {
      "text/plain": [
       "0.6666666666666666"
      ]
     },
     "execution_count": 4,
     "metadata": {},
     "output_type": "execute_result"
    }
   ],
   "source": [
    "2/3"
   ]
  },
  {
   "cell_type": "markdown",
   "id": "fdf00484-6882-40e3-a021-14635e47dfbd",
   "metadata": {},
   "source": [
    "# Modulo or \"Mod\" operator"
   ]
  },
  {
   "cell_type": "code",
   "execution_count": 5,
   "id": "74e67f57-f251-4042-a59d-d49762e08b31",
   "metadata": {},
   "outputs": [
    {
     "data": {
      "text/plain": [
       "3"
      ]
     },
     "execution_count": 5,
     "metadata": {},
     "output_type": "execute_result"
    }
   ],
   "source": [
    "7 % 4 "
   ]
  },
  {
   "cell_type": "code",
   "execution_count": 6,
   "id": "53afa903-70b4-4fa9-884f-371cfe37804d",
   "metadata": {},
   "outputs": [
    {
     "data": {
      "text/plain": [
       "0"
      ]
     },
     "execution_count": 6,
     "metadata": {},
     "output_type": "execute_result"
    }
   ],
   "source": [
    "50 % 5"
   ]
  },
  {
   "cell_type": "code",
   "execution_count": 7,
   "id": "8da2db04-0a59-477f-881a-b6d2ae61d799",
   "metadata": {},
   "outputs": [
    {
     "data": {
      "text/plain": [
       "1"
      ]
     },
     "execution_count": 7,
     "metadata": {},
     "output_type": "execute_result"
    }
   ],
   "source": [
    "23 % 2"
   ]
  },
  {
   "cell_type": "code",
   "execution_count": 8,
   "id": "358d580f-6c63-4196-8e76-369781a0aafd",
   "metadata": {},
   "outputs": [
    {
     "data": {
      "text/plain": [
       "0"
      ]
     },
     "execution_count": 8,
     "metadata": {},
     "output_type": "execute_result"
    }
   ],
   "source": [
    "20 % 2"
   ]
  },
  {
   "cell_type": "code",
   "execution_count": 9,
   "id": "c448a016-9fd2-442b-8e0a-478ac38701c1",
   "metadata": {},
   "outputs": [
    {
     "data": {
      "text/plain": [
       "8"
      ]
     },
     "execution_count": 9,
     "metadata": {},
     "output_type": "execute_result"
    }
   ],
   "source": [
    "2 ** 3"
   ]
  },
  {
   "cell_type": "markdown",
   "id": "3186a4b1-61dd-4b88-8a4e-e350a235cd7f",
   "metadata": {},
   "source": [
    "# Variables Assignment "
   ]
  },
  {
   "cell_type": "code",
   "execution_count": 10,
   "id": "7b4c1a20-c573-4a56-9405-6320b7047b5f",
   "metadata": {},
   "outputs": [],
   "source": [
    "a = 5 "
   ]
  },
  {
   "cell_type": "code",
   "execution_count": 12,
   "id": "a1020938-c919-4efa-9fe5-d54dec94a245",
   "metadata": {},
   "outputs": [
    {
     "data": {
      "text/plain": [
       "5"
      ]
     },
     "execution_count": 12,
     "metadata": {},
     "output_type": "execute_result"
    }
   ],
   "source": [
    "a"
   ]
  },
  {
   "cell_type": "code",
   "execution_count": 13,
   "id": "f19acc57-077f-4aa1-80c5-36a1d3e4e3f7",
   "metadata": {},
   "outputs": [
    {
     "data": {
      "text/plain": [
       "10"
      ]
     },
     "execution_count": 13,
     "metadata": {},
     "output_type": "execute_result"
    }
   ],
   "source": [
    "a + a"
   ]
  },
  {
   "cell_type": "code",
   "execution_count": 14,
   "id": "ed7f4748-cb6e-4f49-a330-7a51b08e9d0f",
   "metadata": {},
   "outputs": [],
   "source": [
    "a = a + a"
   ]
  },
  {
   "cell_type": "code",
   "execution_count": 15,
   "id": "79ea2374-cf62-4707-bdb9-80b22dce5115",
   "metadata": {},
   "outputs": [
    {
     "data": {
      "text/plain": [
       "10"
      ]
     },
     "execution_count": 15,
     "metadata": {},
     "output_type": "execute_result"
    }
   ],
   "source": [
    "a"
   ]
  },
  {
   "cell_type": "code",
   "execution_count": 16,
   "id": "6c1b9976-a1fa-40ac-9be3-05ac5c4cfeee",
   "metadata": {},
   "outputs": [
    {
     "data": {
      "text/plain": [
       "int"
      ]
     },
     "execution_count": 16,
     "metadata": {},
     "output_type": "execute_result"
    }
   ],
   "source": [
    "type(a)"
   ]
  },
  {
   "cell_type": "code",
   "execution_count": 17,
   "id": "2f726585-5594-4d14-9782-3607975616d4",
   "metadata": {},
   "outputs": [],
   "source": [
    "a = 30.1"
   ]
  },
  {
   "cell_type": "code",
   "execution_count": 18,
   "id": "b4a50295-a842-469c-9e20-fb433f84ddb5",
   "metadata": {},
   "outputs": [
    {
     "data": {
      "text/plain": [
       "float"
      ]
     },
     "execution_count": 18,
     "metadata": {},
     "output_type": "execute_result"
    }
   ],
   "source": [
    "type(a)"
   ]
  },
  {
   "cell_type": "code",
   "execution_count": 23,
   "id": "5139eeb8-cd09-4c3d-8f3e-4a4ff601f923",
   "metadata": {},
   "outputs": [],
   "source": [
    "a = 45.7888"
   ]
  },
  {
   "cell_type": "code",
   "execution_count": 24,
   "id": "fcc7595b-8665-443b-ae52-538dfce23e0e",
   "metadata": {},
   "outputs": [
    {
     "data": {
      "text/plain": [
       "float"
      ]
     },
     "execution_count": 24,
     "metadata": {},
     "output_type": "execute_result"
    }
   ],
   "source": [
    "type(a)"
   ]
  },
  {
   "cell_type": "code",
   "execution_count": 25,
   "id": "e8780a63-51cf-4d82-8634-12ab2e01ca4c",
   "metadata": {},
   "outputs": [],
   "source": [
    "my_income = 1000\n",
    "\n",
    "tax_rate = 0.1\n",
    "\n",
    "my_taxes = my_income * tax_rate"
   ]
  },
  {
   "cell_type": "code",
   "execution_count": 26,
   "id": "3fbcb57c-edf1-46d5-8a46-b99682cd2215",
   "metadata": {},
   "outputs": [
    {
     "data": {
      "text/plain": [
       "100.0"
      ]
     },
     "execution_count": 26,
     "metadata": {},
     "output_type": "execute_result"
    }
   ],
   "source": [
    "my_taxes "
   ]
  },
  {
   "cell_type": "markdown",
   "id": "21106207-3cb5-4f83-aeb5-9d095bdc5e10",
   "metadata": {},
   "source": [
    "# Strings "
   ]
  },
  {
   "cell_type": "code",
   "execution_count": 27,
   "id": "6dc134ae-da9a-44b9-9037-b389f1aba065",
   "metadata": {},
   "outputs": [
    {
     "data": {
      "text/plain": [
       "'hello'"
      ]
     },
     "execution_count": 27,
     "metadata": {},
     "output_type": "execute_result"
    }
   ],
   "source": [
    "'hello'"
   ]
  },
  {
   "cell_type": "code",
   "execution_count": 28,
   "id": "b7c682bf-5159-4671-a2a2-5833d7cb5fc1",
   "metadata": {},
   "outputs": [
    {
     "data": {
      "text/plain": [
       "'world'"
      ]
     },
     "execution_count": 28,
     "metadata": {},
     "output_type": "execute_result"
    }
   ],
   "source": [
    "\"world\""
   ]
  },
  {
   "cell_type": "code",
   "execution_count": 29,
   "id": "ed84b1db-b1d4-477f-a162-0ae22185a942",
   "metadata": {},
   "outputs": [
    {
     "data": {
      "text/plain": [
       "'this is also a string'"
      ]
     },
     "execution_count": 29,
     "metadata": {},
     "output_type": "execute_result"
    }
   ],
   "source": [
    "'this is also a string'"
   ]
  },
  {
   "cell_type": "code",
   "execution_count": 30,
   "id": "8ffeb9f4-5084-4211-9cf9-61441291c215",
   "metadata": {},
   "outputs": [
    {
     "name": "stdout",
     "output_type": "stream",
     "text": [
      "hello \n",
      "world\n"
     ]
    }
   ],
   "source": [
    "print(\"hello \\nworld\")"
   ]
  },
  {
   "cell_type": "code",
   "execution_count": 31,
   "id": "f713c023-f97a-4cd2-b974-6722b803446e",
   "metadata": {},
   "outputs": [
    {
     "name": "stdout",
     "output_type": "stream",
     "text": [
      "hello \tworld\n"
     ]
    }
   ],
   "source": [
    "print(\"hello \\tworld\")"
   ]
  },
  {
   "cell_type": "code",
   "execution_count": 32,
   "id": "82f23976-3772-4fb9-b63d-6c92ca79fda5",
   "metadata": {},
   "outputs": [
    {
     "data": {
      "text/plain": [
       "5"
      ]
     },
     "execution_count": 32,
     "metadata": {},
     "output_type": "execute_result"
    }
   ],
   "source": [
    "len(\"hello\")"
   ]
  },
  {
   "cell_type": "markdown",
   "id": "4eebbcd9-f023-4154-8abb-9c512179f818",
   "metadata": {},
   "source": [
    "# Indexing and Slicing with Strings"
   ]
  },
  {
   "cell_type": "code",
   "execution_count": 33,
   "id": "9daf4442-854d-43b6-a270-7d0057be43b9",
   "metadata": {},
   "outputs": [],
   "source": [
    "myString = \"Hello world\""
   ]
  },
  {
   "cell_type": "code",
   "execution_count": 34,
   "id": "fde74f8c-cc31-49a3-9cc8-5daf12e70676",
   "metadata": {},
   "outputs": [
    {
     "data": {
      "text/plain": [
       "'Hello world'"
      ]
     },
     "execution_count": 34,
     "metadata": {},
     "output_type": "execute_result"
    }
   ],
   "source": [
    "myString"
   ]
  },
  {
   "cell_type": "code",
   "execution_count": 35,
   "id": "df93340b-57b4-43b8-8eff-0cac9d422292",
   "metadata": {},
   "outputs": [
    {
     "data": {
      "text/plain": [
       "'H'"
      ]
     },
     "execution_count": 35,
     "metadata": {},
     "output_type": "execute_result"
    }
   ],
   "source": [
    "myString[0]"
   ]
  },
  {
   "cell_type": "code",
   "execution_count": 36,
   "id": "19c065da-908f-46e3-aef0-56a0bf620368",
   "metadata": {},
   "outputs": [
    {
     "data": {
      "text/plain": [
       "'Hello world'"
      ]
     },
     "execution_count": 36,
     "metadata": {},
     "output_type": "execute_result"
    }
   ],
   "source": [
    "myString[:]"
   ]
  },
  {
   "cell_type": "code",
   "execution_count": 37,
   "id": "2907a88b-ff45-4038-9d31-42e3a6189d3c",
   "metadata": {},
   "outputs": [
    {
     "data": {
      "text/plain": [
       "' '"
      ]
     },
     "execution_count": 37,
     "metadata": {},
     "output_type": "execute_result"
    }
   ],
   "source": [
    "myString[5]"
   ]
  },
  {
   "cell_type": "code",
   "execution_count": 38,
   "id": "cf00f47a-dcbc-4796-b472-4e824aac637e",
   "metadata": {},
   "outputs": [
    {
     "data": {
      "text/plain": [
       "'r'"
      ]
     },
     "execution_count": 38,
     "metadata": {},
     "output_type": "execute_result"
    }
   ],
   "source": [
    "myString[-3]"
   ]
  },
  {
   "cell_type": "code",
   "execution_count": 39,
   "id": "f277a085-0227-4ee8-9c32-d3ed07308a1a",
   "metadata": {},
   "outputs": [
    {
     "data": {
      "text/plain": [
       "'l'"
      ]
     },
     "execution_count": 39,
     "metadata": {},
     "output_type": "execute_result"
    }
   ],
   "source": [
    "myString[9]"
   ]
  },
  {
   "cell_type": "code",
   "execution_count": 40,
   "id": "685ffaad-d95c-440b-881b-36d2b1c25de2",
   "metadata": {},
   "outputs": [
    {
     "data": {
      "text/plain": [
       "'r'"
      ]
     },
     "execution_count": 40,
     "metadata": {},
     "output_type": "execute_result"
    }
   ],
   "source": [
    "myString[8]"
   ]
  },
  {
   "cell_type": "code",
   "execution_count": 41,
   "id": "7bd31868-8e01-4ad0-a506-efdd85ea3eef",
   "metadata": {},
   "outputs": [
    {
     "data": {
      "text/plain": [
       "11"
      ]
     },
     "execution_count": 41,
     "metadata": {},
     "output_type": "execute_result"
    }
   ],
   "source": [
    "len(myString)"
   ]
  },
  {
   "cell_type": "code",
   "execution_count": 42,
   "id": "387aa8d5-1539-40b6-84ea-ae8861ba97e7",
   "metadata": {},
   "outputs": [],
   "source": [
    "mystring = 'abcdefghijkl'"
   ]
  },
  {
   "cell_type": "code",
   "execution_count": 43,
   "id": "7afb1ef7-1aba-4c79-b9fc-18544bf94d5d",
   "metadata": {},
   "outputs": [
    {
     "data": {
      "text/plain": [
       "'abcdefghijkl'"
      ]
     },
     "execution_count": 43,
     "metadata": {},
     "output_type": "execute_result"
    }
   ],
   "source": [
    "mystring"
   ]
  },
  {
   "cell_type": "code",
   "execution_count": 44,
   "id": "5ffad60a-6bfe-495e-acee-74c5332421a2",
   "metadata": {},
   "outputs": [
    {
     "data": {
      "text/plain": [
       "'cdefghijkl'"
      ]
     },
     "execution_count": 44,
     "metadata": {},
     "output_type": "execute_result"
    }
   ],
   "source": [
    "mystring[2:]"
   ]
  },
  {
   "cell_type": "code",
   "execution_count": 45,
   "id": "d34e2c5d-959d-4d15-ae0f-43d104e5d881",
   "metadata": {},
   "outputs": [
    {
     "data": {
      "text/plain": [
       "'abc'"
      ]
     },
     "execution_count": 45,
     "metadata": {},
     "output_type": "execute_result"
    }
   ],
   "source": [
    "mystring[:3]"
   ]
  },
  {
   "cell_type": "code",
   "execution_count": 46,
   "id": "817c4ffa-1a56-4f8c-87f0-f2457cced2b4",
   "metadata": {},
   "outputs": [
    {
     "data": {
      "text/plain": [
       "'def'"
      ]
     },
     "execution_count": 46,
     "metadata": {},
     "output_type": "execute_result"
    }
   ],
   "source": [
    "mystring[3:6]"
   ]
  },
  {
   "cell_type": "code",
   "execution_count": 47,
   "id": "bb633069-f90a-4613-b752-0833dca1c49a",
   "metadata": {},
   "outputs": [
    {
     "data": {
      "text/plain": [
       "'abcdefghijkl'"
      ]
     },
     "execution_count": 47,
     "metadata": {},
     "output_type": "execute_result"
    }
   ],
   "source": [
    "mystring[::]"
   ]
  },
  {
   "cell_type": "code",
   "execution_count": 48,
   "id": "697b23ba-62b3-450d-9207-607d1ee3b872",
   "metadata": {},
   "outputs": [
    {
     "data": {
      "text/plain": [
       "'lkjihgfedcba'"
      ]
     },
     "execution_count": 48,
     "metadata": {},
     "output_type": "execute_result"
    }
   ],
   "source": [
    "mystring[::-1]"
   ]
  },
  {
   "cell_type": "code",
   "execution_count": 49,
   "id": "35c12822-1e5b-4edc-bd39-ba99f04d8bf8",
   "metadata": {},
   "outputs": [
    {
     "data": {
      "text/plain": [
       "'lhd'"
      ]
     },
     "execution_count": 49,
     "metadata": {},
     "output_type": "execute_result"
    }
   ],
   "source": [
    "mystring[::-4]"
   ]
  },
  {
   "cell_type": "code",
   "execution_count": 50,
   "id": "a1663f3e-01bc-4edd-8bd2-4b580441bf10",
   "metadata": {},
   "outputs": [
    {
     "data": {
      "text/plain": [
       "'abcdefghijkl'"
      ]
     },
     "execution_count": 50,
     "metadata": {},
     "output_type": "execute_result"
    }
   ],
   "source": [
    "mystring"
   ]
  },
  {
   "cell_type": "code",
   "execution_count": 51,
   "id": "f32295f8-943d-4ad9-95ef-dc33a7298a3c",
   "metadata": {},
   "outputs": [
    {
     "data": {
      "text/plain": [
       "'afk'"
      ]
     },
     "execution_count": 51,
     "metadata": {},
     "output_type": "execute_result"
    }
   ],
   "source": [
    "mystring[::5]"
   ]
  },
  {
   "cell_type": "code",
   "execution_count": 52,
   "id": "f7e5a128-a5c8-4ecf-bb77-fdad1095dcef",
   "metadata": {},
   "outputs": [
    {
     "data": {
      "text/plain": [
       "'ceg'"
      ]
     },
     "execution_count": 52,
     "metadata": {},
     "output_type": "execute_result"
    }
   ],
   "source": [
    "mystring[2:7:2]"
   ]
  },
  {
   "cell_type": "code",
   "execution_count": 54,
   "id": "6703aed2-344f-40f2-bd79-06fe9c6bbe35",
   "metadata": {},
   "outputs": [
    {
     "data": {
      "text/plain": [
       "'acegik'"
      ]
     },
     "execution_count": 54,
     "metadata": {},
     "output_type": "execute_result"
    }
   ],
   "source": [
    "mystring[::2]"
   ]
  },
  {
   "cell_type": "code",
   "execution_count": 55,
   "id": "17c85b01-970c-4bbb-837f-afdadfa12e73",
   "metadata": {},
   "outputs": [
    {
     "data": {
      "text/plain": [
       "'lkjihgfedcba'"
      ]
     },
     "execution_count": 55,
     "metadata": {},
     "output_type": "execute_result"
    }
   ],
   "source": [
    "mystring[::-1]"
   ]
  },
  {
   "cell_type": "markdown",
   "id": "2395e863-ea30-49be-88c1-9310e37a8f2f",
   "metadata": {},
   "source": [
    "# String Properties & Methods "
   ]
  },
  {
   "cell_type": "markdown",
   "id": "992eb798-57a6-4244-b639-38eec44c3506",
   "metadata": {},
   "source": [
    "## Immutable\n"
   ]
  },
  {
   "cell_type": "code",
   "execution_count": 56,
   "id": "9c7a4973-dfc6-404f-a129-a3769eeb2975",
   "metadata": {},
   "outputs": [],
   "source": [
    "name = 'sam'"
   ]
  },
  {
   "cell_type": "code",
   "execution_count": 57,
   "id": "1a345a7b-1062-41ea-a132-39299a5265fb",
   "metadata": {},
   "outputs": [
    {
     "data": {
      "text/plain": [
       "'sam'"
      ]
     },
     "execution_count": 57,
     "metadata": {},
     "output_type": "execute_result"
    }
   ],
   "source": [
    "name"
   ]
  },
  {
   "cell_type": "code",
   "execution_count": 59,
   "id": "1afb980e-1b1e-45dc-a98e-86a1a7aa4e2f",
   "metadata": {},
   "outputs": [],
   "source": [
    "# name[0] = 'p' you can't change the character in strings, it'll return error"
   ]
  },
  {
   "cell_type": "code",
   "execution_count": 61,
   "id": "26140162-70b9-4998-b372-dc7e6abc15bb",
   "metadata": {},
   "outputs": [],
   "source": [
    "last_letters = name[1:]"
   ]
  },
  {
   "cell_type": "code",
   "execution_count": 62,
   "id": "90e52659-566f-45c7-9e8a-de5a3fc7f6e2",
   "metadata": {},
   "outputs": [
    {
     "data": {
      "text/plain": [
       "'am'"
      ]
     },
     "execution_count": 62,
     "metadata": {},
     "output_type": "execute_result"
    }
   ],
   "source": [
    "last_letters"
   ]
  },
  {
   "cell_type": "code",
   "execution_count": 63,
   "id": "bcbd40cd-a733-47e8-845e-582f7dded381",
   "metadata": {},
   "outputs": [
    {
     "data": {
      "text/plain": [
       "'pam'"
      ]
     },
     "execution_count": 63,
     "metadata": {},
     "output_type": "execute_result"
    }
   ],
   "source": [
    "'p' + last_letters"
   ]
  },
  {
   "cell_type": "code",
   "execution_count": 64,
   "id": "822229c1-a50b-42dd-af7e-6475f2465306",
   "metadata": {},
   "outputs": [],
   "source": [
    "X = 'hello world'"
   ]
  },
  {
   "cell_type": "code",
   "execution_count": 69,
   "id": "a7f21033-c9c0-4577-be16-40a48c3dd2d6",
   "metadata": {},
   "outputs": [],
   "source": [
    "X = X + ' it is beautiful outside'"
   ]
  },
  {
   "cell_type": "code",
   "execution_count": 70,
   "id": "7a480d95-2e9b-4d4b-add6-7cd47cad3e11",
   "metadata": {},
   "outputs": [
    {
     "data": {
      "text/plain": [
       "'hello worldit is beautiful outside it is beautiful outside it is beautiful outside'"
      ]
     },
     "execution_count": 70,
     "metadata": {},
     "output_type": "execute_result"
    }
   ],
   "source": [
    "X "
   ]
  },
  {
   "cell_type": "code",
   "execution_count": 72,
   "id": "00267ac4-66ba-48d6-968a-d626b735c0d6",
   "metadata": {},
   "outputs": [
    {
     "data": {
      "text/plain": [
       "'ZZZZZZZZZZ'"
      ]
     },
     "execution_count": 72,
     "metadata": {},
     "output_type": "execute_result"
    }
   ],
   "source": [
    "letter = 'Z'\n",
    "letter * 10"
   ]
  },
  {
   "cell_type": "code",
   "execution_count": 73,
   "id": "9fbe41e3-fd32-4fb4-b83b-5875f3736d4a",
   "metadata": {},
   "outputs": [],
   "source": [
    "a = '2' + '3'"
   ]
  },
  {
   "cell_type": "code",
   "execution_count": 74,
   "id": "a5d0eb9f-aa61-4f5f-9591-d5d1d9fe7ad0",
   "metadata": {},
   "outputs": [
    {
     "data": {
      "text/plain": [
       "str"
      ]
     },
     "execution_count": 74,
     "metadata": {},
     "output_type": "execute_result"
    }
   ],
   "source": [
    "type(a)"
   ]
  },
  {
   "cell_type": "code",
   "execution_count": 75,
   "id": "cc8937b8-34e4-4f6c-ae8f-8030c39543bd",
   "metadata": {},
   "outputs": [],
   "source": [
    "X = 'Hello world'"
   ]
  },
  {
   "cell_type": "code",
   "execution_count": 76,
   "id": "c74d4d2d-6d9f-4e0f-a257-f4fdf9562104",
   "metadata": {},
   "outputs": [
    {
     "data": {
      "text/plain": [
       "'HELLO WORLD'"
      ]
     },
     "execution_count": 76,
     "metadata": {},
     "output_type": "execute_result"
    }
   ],
   "source": [
    "X.upper()"
   ]
  },
  {
   "cell_type": "code",
   "execution_count": 78,
   "id": "e0bd3cde-c7e8-40cf-bb01-dcddbe249ebd",
   "metadata": {},
   "outputs": [
    {
     "data": {
      "text/plain": [
       "<function str.upper()>"
      ]
     },
     "execution_count": 78,
     "metadata": {},
     "output_type": "execute_result"
    }
   ],
   "source": [
    "X.upper"
   ]
  },
  {
   "cell_type": "code",
   "execution_count": 79,
   "id": "6ab892d3-6517-44f9-acc0-4165a4076e89",
   "metadata": {},
   "outputs": [
    {
     "data": {
      "text/plain": [
       "'hello world'"
      ]
     },
     "execution_count": 79,
     "metadata": {},
     "output_type": "execute_result"
    }
   ],
   "source": [
    "X.lower()"
   ]
  },
  {
   "cell_type": "code",
   "execution_count": 80,
   "id": "bc2f33d7-3965-42c0-b317-4a833891d329",
   "metadata": {},
   "outputs": [
    {
     "data": {
      "text/plain": [
       "['Hello', 'world']"
      ]
     },
     "execution_count": 80,
     "metadata": {},
     "output_type": "execute_result"
    }
   ],
   "source": [
    "X.split()"
   ]
  },
  {
   "cell_type": "code",
   "execution_count": 81,
   "id": "a0109f5e-3e31-4737-88d5-7f8b733695aa",
   "metadata": {},
   "outputs": [],
   "source": [
    "X = 'this is a string'"
   ]
  },
  {
   "cell_type": "code",
   "execution_count": 82,
   "id": "5876ad52-40ae-4093-8bda-056e09bdf5ba",
   "metadata": {},
   "outputs": [
    {
     "data": {
      "text/plain": [
       "['this', 'is', 'a', 'string']"
      ]
     },
     "execution_count": 82,
     "metadata": {},
     "output_type": "execute_result"
    }
   ],
   "source": [
    "X.split()"
   ]
  },
  {
   "cell_type": "code",
   "execution_count": 83,
   "id": "6c12ac17-9431-4e26-835e-00da38494b64",
   "metadata": {},
   "outputs": [
    {
     "data": {
      "text/plain": [
       "['th', 's ', 's a str', 'ng']"
      ]
     },
     "execution_count": 83,
     "metadata": {},
     "output_type": "execute_result"
    }
   ],
   "source": [
    "X.split('i')"
   ]
  },
  {
   "cell_type": "markdown",
   "id": "c27b6758-b4b4-409b-b1ab-fef14b73d1ec",
   "metadata": {},
   "source": [
    "# Formatting with  the .format() method "
   ]
  },
  {
   "cell_type": "markdown",
   "id": "81e4890e-e931-4857-a77b-86ef55a2fd50",
   "metadata": {},
   "source": [
    "A good way to format objects into your strings for print statements is with the string.format() method. The syntax is: 'String here {} then also {}'.format('something1', 'something2')"
   ]
  },
  {
   "cell_type": "code",
   "execution_count": 84,
   "id": "2e487658-640c-475b-b214-e65ff27cd768",
   "metadata": {},
   "outputs": [
    {
     "name": "stdout",
     "output_type": "stream",
     "text": [
      "this is a string INSERTED\n"
     ]
    }
   ],
   "source": [
    "print('this is a string {}'.format('INSERTED'))"
   ]
  },
  {
   "cell_type": "code",
   "execution_count": 85,
   "id": "fafe175d-fb3c-4a78-bd44-d9048c7427dc",
   "metadata": {},
   "outputs": [
    {
     "name": "stdout",
     "output_type": "stream",
     "text": [
      "The quick brown fox\n"
     ]
    }
   ],
   "source": [
    "print('The {2} {1} {0}'.format('fox', 'brown', 'quick'))"
   ]
  },
  {
   "cell_type": "code",
   "execution_count": 86,
   "id": "e04073e0-c88a-4525-bbfc-3acfbcc2fb8d",
   "metadata": {},
   "outputs": [
    {
     "name": "stdout",
     "output_type": "stream",
     "text": [
      "The fox fox fox\n"
     ]
    }
   ],
   "source": [
    "print('The {0} {0} {0}'.format('fox'))"
   ]
  },
  {
   "cell_type": "code",
   "execution_count": 87,
   "id": "781838e0-4574-4191-9173-e26fb315ca72",
   "metadata": {},
   "outputs": [
    {
     "name": "stdout",
     "output_type": "stream",
     "text": [
      "The quick brown fox\n"
     ]
    }
   ],
   "source": [
    "print('The {q} {b} {f}'.format(f='fox', b='brown', q='quick'))"
   ]
  },
  {
   "cell_type": "markdown",
   "id": "b02dc352-0e2c-420a-907e-e69017f35de5",
   "metadata": {},
   "source": [
    "# Float formatting follows \"{value: width.precision'}\""
   ]
  },
  {
   "cell_type": "code",
   "execution_count": 88,
   "id": "02227c86-4abe-4401-a0ed-fd4629e128b0",
   "metadata": {},
   "outputs": [],
   "source": [
    "result = 100/777"
   ]
  },
  {
   "cell_type": "code",
   "execution_count": 89,
   "id": "e85504af-9569-48d5-976e-a927e102ec94",
   "metadata": {},
   "outputs": [
    {
     "data": {
      "text/plain": [
       "0.1287001287001287"
      ]
     },
     "execution_count": 89,
     "metadata": {},
     "output_type": "execute_result"
    }
   ],
   "source": [
    "result "
   ]
  },
  {
   "cell_type": "code",
   "execution_count": 90,
   "id": "118cf789-0b2f-4ae6-9abb-f08418c68dbc",
   "metadata": {},
   "outputs": [
    {
     "name": "stdout",
     "output_type": "stream",
     "text": [
      "The result was 0.1287001287001287\n"
     ]
    }
   ],
   "source": [
    "print('The result was {}'.format(result))"
   ]
  },
  {
   "cell_type": "code",
   "execution_count": 91,
   "id": "4f15939c-91a1-4da8-8cd5-b0716569d2b7",
   "metadata": {},
   "outputs": [
    {
     "name": "stdout",
     "output_type": "stream",
     "text": [
      "The result was 0.129\n"
     ]
    }
   ],
   "source": [
    "print('The result was {:.3f}'.format(result))"
   ]
  },
  {
   "cell_type": "code",
   "execution_count": 93,
   "id": "650d9d11-c394-41e9-83e7-a0c3fbd207d6",
   "metadata": {},
   "outputs": [],
   "source": [
    "name = 'shiva'"
   ]
  },
  {
   "cell_type": "code",
   "execution_count": 94,
   "id": "12ad927a-3d9f-4664-a9e7-13e2c7c3e76c",
   "metadata": {},
   "outputs": [
    {
     "name": "stdout",
     "output_type": "stream",
     "text": [
      "Hello, his name is shiva\n"
     ]
    }
   ],
   "source": [
    "print('Hello, his name is {}'.format(name))"
   ]
  },
  {
   "cell_type": "code",
   "execution_count": 95,
   "id": "2b5247b3-4f46-400a-9a9c-3aa7206fa131",
   "metadata": {},
   "outputs": [],
   "source": [
    "name = 'sarita'\n",
    "age = 5"
   ]
  },
  {
   "cell_type": "code",
   "execution_count": 96,
   "id": "34132683-f665-4ca4-bd5f-de67dfee402a",
   "metadata": {},
   "outputs": [
    {
     "name": "stdout",
     "output_type": "stream",
     "text": [
      "sarita is 5 years old\n"
     ]
    }
   ],
   "source": [
    "print(f\"{name} is {age} years old\")"
   ]
  },
  {
   "cell_type": "markdown",
   "id": "3a047972-f185-472d-bfff-9bdd069c1527",
   "metadata": {},
   "source": [
    "# Lists"
   ]
  },
  {
   "cell_type": "code",
   "execution_count": 97,
   "id": "e0e7c3e0-d803-427e-be7f-a04cb3662e11",
   "metadata": {},
   "outputs": [],
   "source": [
    "my_list = [1, 2, 3]"
   ]
  },
  {
   "cell_type": "code",
   "execution_count": 98,
   "id": "ccc0af4a-c813-468e-a78f-b318e8318586",
   "metadata": {},
   "outputs": [
    {
     "data": {
      "text/plain": [
       "[1, 2, 3]"
      ]
     },
     "execution_count": 98,
     "metadata": {},
     "output_type": "execute_result"
    }
   ],
   "source": [
    "my_list"
   ]
  },
  {
   "cell_type": "code",
   "execution_count": 99,
   "id": "4b2b8135-2961-4d03-abf4-5dae6cdc6fa8",
   "metadata": {},
   "outputs": [],
   "source": [
    "my_list = ['string', 12, 8.9]"
   ]
  },
  {
   "cell_type": "code",
   "execution_count": 100,
   "id": "0567f202-df2a-4f30-8f6d-b48956438e03",
   "metadata": {},
   "outputs": [
    {
     "data": {
      "text/plain": [
       "['string', 12, 8.9]"
      ]
     },
     "execution_count": 100,
     "metadata": {},
     "output_type": "execute_result"
    }
   ],
   "source": [
    "my_list"
   ]
  },
  {
   "cell_type": "code",
   "execution_count": 101,
   "id": "00a3184e-0b3a-4998-b76f-92d1c344f66c",
   "metadata": {},
   "outputs": [
    {
     "data": {
      "text/plain": [
       "3"
      ]
     },
     "execution_count": 101,
     "metadata": {},
     "output_type": "execute_result"
    }
   ],
   "source": [
    "len(my_list)"
   ]
  },
  {
   "cell_type": "code",
   "execution_count": 102,
   "id": "9d0f313a-3847-41cf-921b-8d51ac11d3fb",
   "metadata": {},
   "outputs": [],
   "source": [
    "my_list = ['one', 'two', 'three']"
   ]
  },
  {
   "cell_type": "code",
   "execution_count": 103,
   "id": "5b7bd623-9f05-4a6d-a1bd-9f1ec367511f",
   "metadata": {},
   "outputs": [
    {
     "data": {
      "text/plain": [
       "['one', 'two', 'three']"
      ]
     },
     "execution_count": 103,
     "metadata": {},
     "output_type": "execute_result"
    }
   ],
   "source": [
    "my_list"
   ]
  },
  {
   "cell_type": "code",
   "execution_count": 104,
   "id": "a6013ded-6288-4ac3-bd38-699398a0a86d",
   "metadata": {},
   "outputs": [
    {
     "data": {
      "text/plain": [
       "'one'"
      ]
     },
     "execution_count": 104,
     "metadata": {},
     "output_type": "execute_result"
    }
   ],
   "source": [
    "my_list[0]"
   ]
  },
  {
   "cell_type": "code",
   "execution_count": 105,
   "id": "94d73af1-86d0-4f1f-a3b2-e969d55d4918",
   "metadata": {},
   "outputs": [],
   "source": [
    "my_list[0] = 'blue'"
   ]
  },
  {
   "cell_type": "code",
   "execution_count": 106,
   "id": "d9f1820a-6e9f-4b0a-9c17-a5b7b3f89378",
   "metadata": {},
   "outputs": [
    {
     "data": {
      "text/plain": [
       "['blue', 'two', 'three']"
      ]
     },
     "execution_count": 106,
     "metadata": {},
     "output_type": "execute_result"
    }
   ],
   "source": [
    "my_list"
   ]
  },
  {
   "cell_type": "code",
   "execution_count": 107,
   "id": "2737e9b8-9f0e-4849-b445-5b15be284a49",
   "metadata": {},
   "outputs": [
    {
     "data": {
      "text/plain": [
       "['two', 'three']"
      ]
     },
     "execution_count": 107,
     "metadata": {},
     "output_type": "execute_result"
    }
   ],
   "source": [
    "my_list[1:]"
   ]
  },
  {
   "cell_type": "code",
   "execution_count": 108,
   "id": "92196b1a-8720-4315-847b-837ad06d04c6",
   "metadata": {},
   "outputs": [],
   "source": [
    "another_list = ['four', 'five']\n"
   ]
  },
  {
   "cell_type": "code",
   "execution_count": 109,
   "id": "4494672b-3be7-41b8-8fd9-81e76202c5e7",
   "metadata": {},
   "outputs": [],
   "source": [
    "new_list = another_list + my_list"
   ]
  },
  {
   "cell_type": "code",
   "execution_count": 110,
   "id": "a784f331-4d95-44f7-92fa-195463ba2703",
   "metadata": {},
   "outputs": [
    {
     "data": {
      "text/plain": [
       "['four', 'five', 'blue', 'two', 'three']"
      ]
     },
     "execution_count": 110,
     "metadata": {},
     "output_type": "execute_result"
    }
   ],
   "source": [
    "new_list"
   ]
  },
  {
   "cell_type": "code",
   "execution_count": 111,
   "id": "c7cb1fba-72cf-4309-9621-a7f519a6dbf9",
   "metadata": {},
   "outputs": [
    {
     "data": {
      "text/plain": [
       "['four', 'five', 'blue']"
      ]
     },
     "execution_count": 111,
     "metadata": {},
     "output_type": "execute_result"
    }
   ],
   "source": [
    "new_list[:3]"
   ]
  },
  {
   "cell_type": "code",
   "execution_count": 112,
   "id": "48ffc32d-748d-4c66-b57c-16b9463aa481",
   "metadata": {},
   "outputs": [],
   "source": [
    "new_list.append('yellow')"
   ]
  },
  {
   "cell_type": "code",
   "execution_count": 113,
   "id": "d7c5702e-732e-42a8-996d-f253c625586a",
   "metadata": {},
   "outputs": [
    {
     "data": {
      "text/plain": [
       "['four', 'five', 'blue', 'two', 'three', 'yellow']"
      ]
     },
     "execution_count": 113,
     "metadata": {},
     "output_type": "execute_result"
    }
   ],
   "source": [
    "new_list"
   ]
  },
  {
   "cell_type": "code",
   "execution_count": 117,
   "id": "18648afb-34eb-4f4d-84b3-cead92a4b003",
   "metadata": {},
   "outputs": [],
   "source": [
    "new_list.remove('blue')"
   ]
  },
  {
   "cell_type": "code",
   "execution_count": 118,
   "id": "b6dcb421-e520-4ff8-b804-781fa5ea475e",
   "metadata": {},
   "outputs": [
    {
     "data": {
      "text/plain": [
       "['four', 'five', 'two', 'three', 'yellow']"
      ]
     },
     "execution_count": 118,
     "metadata": {},
     "output_type": "execute_result"
    }
   ],
   "source": [
    "new_list"
   ]
  },
  {
   "cell_type": "code",
   "execution_count": 119,
   "id": "f0f5b277-d68a-4754-a713-61c53b64c23e",
   "metadata": {},
   "outputs": [],
   "source": [
    "new_list.append('seven')"
   ]
  },
  {
   "cell_type": "code",
   "execution_count": 120,
   "id": "587c819d-2148-4627-8d05-10e78b8b9472",
   "metadata": {},
   "outputs": [
    {
     "data": {
      "text/plain": [
       "['four', 'five', 'two', 'three', 'yellow', 'seven']"
      ]
     },
     "execution_count": 120,
     "metadata": {},
     "output_type": "execute_result"
    }
   ],
   "source": [
    "new_list"
   ]
  },
  {
   "cell_type": "code",
   "execution_count": 121,
   "id": "f6b30e29-f910-4d63-8c68-554888345ea8",
   "metadata": {},
   "outputs": [
    {
     "data": {
      "text/plain": [
       "<function list.pop(index=-1, /)>"
      ]
     },
     "execution_count": 121,
     "metadata": {},
     "output_type": "execute_result"
    }
   ],
   "source": [
    "new_list.pop"
   ]
  },
  {
   "cell_type": "code",
   "execution_count": 122,
   "id": "96c22155-4e8a-4316-8baa-9454608bd830",
   "metadata": {},
   "outputs": [
    {
     "data": {
      "text/plain": [
       "'seven'"
      ]
     },
     "execution_count": 122,
     "metadata": {},
     "output_type": "execute_result"
    }
   ],
   "source": [
    "new_list.pop()"
   ]
  },
  {
   "cell_type": "code",
   "execution_count": 123,
   "id": "11585fbb-6ec9-4bd7-b05c-446e4332c412",
   "metadata": {},
   "outputs": [
    {
     "data": {
      "text/plain": [
       "['four', 'five', 'two', 'three', 'yellow']"
      ]
     },
     "execution_count": 123,
     "metadata": {},
     "output_type": "execute_result"
    }
   ],
   "source": [
    "new_list "
   ]
  },
  {
   "cell_type": "code",
   "execution_count": 124,
   "id": "5135f318-a498-41f2-bbc3-ac16eb2faa4a",
   "metadata": {},
   "outputs": [],
   "source": [
    "popped_item = new_list.pop()"
   ]
  },
  {
   "cell_type": "code",
   "execution_count": 125,
   "id": "5ff356a1-6989-44fa-9d9a-50281dce96e4",
   "metadata": {},
   "outputs": [
    {
     "data": {
      "text/plain": [
       "'yellow'"
      ]
     },
     "execution_count": 125,
     "metadata": {},
     "output_type": "execute_result"
    }
   ],
   "source": [
    "popped_item"
   ]
  },
  {
   "cell_type": "code",
   "execution_count": 126,
   "id": "9d3b73aa-38fe-42c0-ba3b-0143aed3f1b0",
   "metadata": {},
   "outputs": [
    {
     "data": {
      "text/plain": [
       "['four', 'five', 'two', 'three']"
      ]
     },
     "execution_count": 126,
     "metadata": {},
     "output_type": "execute_result"
    }
   ],
   "source": [
    "new_list"
   ]
  },
  {
   "cell_type": "code",
   "execution_count": 127,
   "id": "cff1b848-e946-4388-97fa-fe014a05dafd",
   "metadata": {},
   "outputs": [
    {
     "data": {
      "text/plain": [
       "'four'"
      ]
     },
     "execution_count": 127,
     "metadata": {},
     "output_type": "execute_result"
    }
   ],
   "source": [
    "new_list.pop(0)"
   ]
  },
  {
   "cell_type": "code",
   "execution_count": 135,
   "id": "17fdb6fe-f600-4a64-ac8a-13569f3162bb",
   "metadata": {},
   "outputs": [
    {
     "data": {
      "text/plain": [
       "['two', 'three']"
      ]
     },
     "execution_count": 135,
     "metadata": {},
     "output_type": "execute_result"
    }
   ],
   "source": [
    "new_list"
   ]
  },
  {
   "cell_type": "code",
   "execution_count": 136,
   "id": "4117e71a-8d9d-4416-aa20-27d53bdbffd4",
   "metadata": {},
   "outputs": [],
   "source": [
    "removed_list = new_list.remove('two')"
   ]
  },
  {
   "cell_type": "code",
   "execution_count": 141,
   "id": "2c2d5305-2565-46fc-a6c0-3a00a80d9f19",
   "metadata": {},
   "outputs": [],
   "source": [
    "new_list = ['a', 'z', 'x', 'm', 'i', 'k', 'p']"
   ]
  },
  {
   "cell_type": "code",
   "execution_count": 147,
   "id": "4e87a878-78d6-4fcf-a5f7-1955a03c7a0b",
   "metadata": {},
   "outputs": [],
   "source": [
    "new_list.sort()"
   ]
  },
  {
   "cell_type": "code",
   "execution_count": 149,
   "id": "6a379d4d-5bd0-4917-8f25-01287b732b44",
   "metadata": {},
   "outputs": [
    {
     "data": {
      "text/plain": [
       "['a', 'i', 'k', 'm', 'p', 'x', 'z']"
      ]
     },
     "execution_count": 149,
     "metadata": {},
     "output_type": "execute_result"
    }
   ],
   "source": [
    "my_list = new_list\n",
    "my_list"
   ]
  },
  {
   "cell_type": "code",
   "execution_count": 150,
   "id": "ca5d3940-c77e-44d3-8065-51a7a6e60e6c",
   "metadata": {},
   "outputs": [],
   "source": [
    "my_list.reverse()"
   ]
  },
  {
   "cell_type": "code",
   "execution_count": 151,
   "id": "9636c6e7-5c51-4760-b036-2dfcf0b5003f",
   "metadata": {},
   "outputs": [
    {
     "data": {
      "text/plain": [
       "['z', 'x', 'p', 'm', 'k', 'i', 'a']"
      ]
     },
     "execution_count": 151,
     "metadata": {},
     "output_type": "execute_result"
    }
   ],
   "source": [
    "my_list"
   ]
  },
  {
   "cell_type": "markdown",
   "id": "aa0bca8c-23b7-47c8-b712-6fd33e3f6616",
   "metadata": {},
   "source": [
    "# Dictionaries"
   ]
  },
  {
   "cell_type": "code",
   "execution_count": 153,
   "id": "916da31d-2445-4051-8651-5a8cc92f808b",
   "metadata": {},
   "outputs": [],
   "source": [
    "my_dict = {'key1':'value1', 'key2':'value2'}"
   ]
  },
  {
   "cell_type": "code",
   "execution_count": 154,
   "id": "63b5ea73-0673-429f-8664-773af59860b3",
   "metadata": {},
   "outputs": [
    {
     "data": {
      "text/plain": [
       "{'key1': 'value1', 'key2': 'value2'}"
      ]
     },
     "execution_count": 154,
     "metadata": {},
     "output_type": "execute_result"
    }
   ],
   "source": [
    "my_dict"
   ]
  },
  {
   "cell_type": "code",
   "execution_count": 155,
   "id": "03076bb5-5a98-4983-959d-03206a73e192",
   "metadata": {},
   "outputs": [
    {
     "data": {
      "text/plain": [
       "'value1'"
      ]
     },
     "execution_count": 155,
     "metadata": {},
     "output_type": "execute_result"
    }
   ],
   "source": [
    "my_dict['key1']"
   ]
  },
  {
   "cell_type": "code",
   "execution_count": 156,
   "id": "d061a7fe-ceef-49db-b09b-351d30aa5647",
   "metadata": {},
   "outputs": [],
   "source": [
    "prices_lookup = {'apple':2.99, 'oranges':3.79, 'durian':7.88}"
   ]
  },
  {
   "cell_type": "code",
   "execution_count": 157,
   "id": "25dc1bf5-42f9-4056-8c58-cb523827a39b",
   "metadata": {},
   "outputs": [
    {
     "data": {
      "text/plain": [
       "2.99"
      ]
     },
     "execution_count": 157,
     "metadata": {},
     "output_type": "execute_result"
    }
   ],
   "source": [
    "prices_lookup['apple']"
   ]
  },
  {
   "cell_type": "code",
   "execution_count": 158,
   "id": "b4e1f2e6-3b57-49d7-a672-0eb848b48c34",
   "metadata": {},
   "outputs": [],
   "source": [
    "prices_lookup['apple'] = 89"
   ]
  },
  {
   "cell_type": "code",
   "execution_count": 159,
   "id": "75c5db7d-46d0-4bc3-90b8-4537b203cb93",
   "metadata": {},
   "outputs": [
    {
     "data": {
      "text/plain": [
       "{'apple': 89, 'oranges': 3.79, 'durian': 7.88}"
      ]
     },
     "execution_count": 159,
     "metadata": {},
     "output_type": "execute_result"
    }
   ],
   "source": [
    "prices_lookup"
   ]
  },
  {
   "cell_type": "code",
   "execution_count": 160,
   "id": "c488df29-311b-4327-aef3-9460aed10188",
   "metadata": {},
   "outputs": [],
   "source": [
    "d = {'k1':123, 'k2':[0,1,2], 'k3':{'inside_kidney':100}}"
   ]
  },
  {
   "cell_type": "code",
   "execution_count": 161,
   "id": "81be7a43-0c5c-4d54-9b88-5f5ebeb68f56",
   "metadata": {},
   "outputs": [
    {
     "data": {
      "text/plain": [
       "{'k1': 123, 'k2': [0, 1, 2], 'k3': {'inside_kidney': 100}}"
      ]
     },
     "execution_count": 161,
     "metadata": {},
     "output_type": "execute_result"
    }
   ],
   "source": [
    "d"
   ]
  },
  {
   "cell_type": "code",
   "execution_count": 162,
   "id": "be56bd4e-76e1-4feb-930e-c8df26098dc7",
   "metadata": {},
   "outputs": [
    {
     "data": {
      "text/plain": [
       "123"
      ]
     },
     "execution_count": 162,
     "metadata": {},
     "output_type": "execute_result"
    }
   ],
   "source": [
    "d['k1']"
   ]
  },
  {
   "cell_type": "code",
   "execution_count": 164,
   "id": "af83b65e-4d07-44d8-a06d-8afec549ce06",
   "metadata": {},
   "outputs": [],
   "source": [
    "d['k3']['inside_kidney'] = 78"
   ]
  },
  {
   "cell_type": "code",
   "execution_count": 165,
   "id": "671ce4bc-51b0-4694-bbc4-46da14313b6e",
   "metadata": {},
   "outputs": [
    {
     "data": {
      "text/plain": [
       "78"
      ]
     },
     "execution_count": 165,
     "metadata": {},
     "output_type": "execute_result"
    }
   ],
   "source": [
    "d['k3']['inside_kidney']"
   ]
  },
  {
   "cell_type": "code",
   "execution_count": 166,
   "id": "2b6741fd-70d0-4fcb-a04b-486fcb3ed453",
   "metadata": {},
   "outputs": [],
   "source": [
    "d = {'key1' : ['a', 'b', 'c', 'd']}"
   ]
  },
  {
   "cell_type": "code",
   "execution_count": 167,
   "id": "25a8e278-0097-4e07-ad36-8c1ba3e5c28d",
   "metadata": {},
   "outputs": [
    {
     "data": {
      "text/plain": [
       "{'key1': ['a', 'b', 'c', 'd']}"
      ]
     },
     "execution_count": 167,
     "metadata": {},
     "output_type": "execute_result"
    }
   ],
   "source": [
    "d"
   ]
  },
  {
   "cell_type": "code",
   "execution_count": 168,
   "id": "66db1220-88b8-412c-b773-fc3af5b72a7f",
   "metadata": {},
   "outputs": [],
   "source": [
    "my_list = d['key1']"
   ]
  },
  {
   "cell_type": "code",
   "execution_count": 169,
   "id": "0acf2ed0-76c8-4183-8a7a-760467414d1b",
   "metadata": {},
   "outputs": [
    {
     "data": {
      "text/plain": [
       "list"
      ]
     },
     "execution_count": 169,
     "metadata": {},
     "output_type": "execute_result"
    }
   ],
   "source": [
    "type(my_list)"
   ]
  },
  {
   "cell_type": "code",
   "execution_count": 170,
   "id": "01213bd1-5163-43bc-9765-7635fcb53b6c",
   "metadata": {},
   "outputs": [
    {
     "data": {
      "text/plain": [
       "dict"
      ]
     },
     "execution_count": 170,
     "metadata": {},
     "output_type": "execute_result"
    }
   ],
   "source": [
    "type(d)"
   ]
  },
  {
   "cell_type": "code",
   "execution_count": 172,
   "id": "b0503efb-b96d-4c1e-8bf3-5c5abc5e2f51",
   "metadata": {},
   "outputs": [],
   "source": [
    "letter = my_list[2]"
   ]
  },
  {
   "cell_type": "code",
   "execution_count": 173,
   "id": "417a8bea-c239-45a3-97bd-bd49e27532c7",
   "metadata": {},
   "outputs": [
    {
     "data": {
      "text/plain": [
       "'C'"
      ]
     },
     "execution_count": 173,
     "metadata": {},
     "output_type": "execute_result"
    }
   ],
   "source": [
    "letter.upper()"
   ]
  },
  {
   "cell_type": "code",
   "execution_count": 175,
   "id": "badd89c6-4fde-40cb-b1a0-cec55d708e0a",
   "metadata": {},
   "outputs": [],
   "source": [
    "d = {'k1':100, 'k2':200}"
   ]
  },
  {
   "cell_type": "code",
   "execution_count": 176,
   "id": "0b9fa050-8e42-47f3-afba-a7e5f3711bd5",
   "metadata": {},
   "outputs": [
    {
     "data": {
      "text/plain": [
       "{'k1': 100, 'k2': 200}"
      ]
     },
     "execution_count": 176,
     "metadata": {},
     "output_type": "execute_result"
    }
   ],
   "source": [
    "d"
   ]
  },
  {
   "cell_type": "code",
   "execution_count": 177,
   "id": "720e34d2-1969-46ce-a7bf-a40e8ce51e63",
   "metadata": {},
   "outputs": [],
   "source": [
    "d['k1'] = 'new_values'"
   ]
  },
  {
   "cell_type": "code",
   "execution_count": 178,
   "id": "22c756cc-8ad4-42a2-8d0c-0773fc18430a",
   "metadata": {},
   "outputs": [
    {
     "data": {
      "text/plain": [
       "{'k1': 'new_values', 'k2': 200}"
      ]
     },
     "execution_count": 178,
     "metadata": {},
     "output_type": "execute_result"
    }
   ],
   "source": [
    "d"
   ]
  },
  {
   "cell_type": "code",
   "execution_count": 179,
   "id": "49b3f186-634a-49f2-a98d-c524d3f55a67",
   "metadata": {},
   "outputs": [
    {
     "data": {
      "text/plain": [
       "dict_keys(['k1', 'k2'])"
      ]
     },
     "execution_count": 179,
     "metadata": {},
     "output_type": "execute_result"
    }
   ],
   "source": [
    "d.keys()"
   ]
  },
  {
   "cell_type": "code",
   "execution_count": 180,
   "id": "77bac44c-af7c-493c-a99f-059366138dac",
   "metadata": {},
   "outputs": [
    {
     "data": {
      "text/plain": [
       "dict_values(['new_values', 200])"
      ]
     },
     "execution_count": 180,
     "metadata": {},
     "output_type": "execute_result"
    }
   ],
   "source": [
    "d.values()"
   ]
  },
  {
   "cell_type": "code",
   "execution_count": 181,
   "id": "87ce8d74-5ee1-407e-bc20-da133c180738",
   "metadata": {},
   "outputs": [
    {
     "data": {
      "text/plain": [
       "dict_items([('k1', 'new_values'), ('k2', 200)])"
      ]
     },
     "execution_count": 181,
     "metadata": {},
     "output_type": "execute_result"
    }
   ],
   "source": [
    "d.items()"
   ]
  },
  {
   "cell_type": "markdown",
   "id": "2d3aa740-2a2e-445a-8a3c-a42cdb9dc093",
   "metadata": {},
   "source": [
    "# Tuples with Python "
   ]
  },
  {
   "cell_type": "code",
   "execution_count": 183,
   "id": "40460fdb-2d44-46a1-a99c-a38173b02d38",
   "metadata": {},
   "outputs": [],
   "source": [
    "t = (1, 2, 3)"
   ]
  },
  {
   "cell_type": "code",
   "execution_count": 184,
   "id": "c70892f0-01c1-47bd-b170-aba8645d16d2",
   "metadata": {},
   "outputs": [],
   "source": [
    "my_list = [1, 2, 3]"
   ]
  },
  {
   "cell_type": "code",
   "execution_count": 185,
   "id": "fe2b98f1-8fb9-47fc-829d-ad721d4a3cbc",
   "metadata": {},
   "outputs": [
    {
     "data": {
      "text/plain": [
       "tuple"
      ]
     },
     "execution_count": 185,
     "metadata": {},
     "output_type": "execute_result"
    }
   ],
   "source": [
    "type(t)"
   ]
  },
  {
   "cell_type": "code",
   "execution_count": 186,
   "id": "174c6d2e-8979-4e0f-a8ee-e55017e5dd2b",
   "metadata": {},
   "outputs": [],
   "source": [
    "t = ('one', 2)"
   ]
  },
  {
   "cell_type": "code",
   "execution_count": 187,
   "id": "bd53f193-0ba6-4784-bb8d-95215a8a8adf",
   "metadata": {},
   "outputs": [
    {
     "data": {
      "text/plain": [
       "tuple"
      ]
     },
     "execution_count": 187,
     "metadata": {},
     "output_type": "execute_result"
    }
   ],
   "source": [
    "type(t)"
   ]
  },
  {
   "cell_type": "code",
   "execution_count": 188,
   "id": "ed18b0a6-3e90-439a-8504-16c061b87466",
   "metadata": {},
   "outputs": [
    {
     "data": {
      "text/plain": [
       "'one'"
      ]
     },
     "execution_count": 188,
     "metadata": {},
     "output_type": "execute_result"
    }
   ],
   "source": [
    "t[0]"
   ]
  },
  {
   "cell_type": "code",
   "execution_count": 189,
   "id": "8f4e30fe-859e-4d9c-8451-c6f3c49b3e99",
   "metadata": {},
   "outputs": [
    {
     "ename": "TypeError",
     "evalue": "'tuple' object does not support item assignment",
     "output_type": "error",
     "traceback": [
      "\u001b[0;31m---------------------------------------------------------------------------\u001b[0m",
      "\u001b[0;31mTypeError\u001b[0m                                 Traceback (most recent call last)",
      "Cell \u001b[0;32mIn[189], line 1\u001b[0m\n\u001b[0;32m----> 1\u001b[0m \u001b[43mt\u001b[49m\u001b[43m[\u001b[49m\u001b[38;5;241;43m0\u001b[39;49m\u001b[43m]\u001b[49m \u001b[38;5;241m=\u001b[39m \u001b[38;5;124m'\u001b[39m\u001b[38;5;124mtwo\u001b[39m\u001b[38;5;124m'\u001b[39m\n",
      "\u001b[0;31mTypeError\u001b[0m: 'tuple' object does not support item assignment"
     ]
    }
   ],
   "source": [
    "# t[0] = 'two' it does not support item assignment "
   ]
  },
  {
   "cell_type": "code",
   "execution_count": 191,
   "id": "57b9b20c-0401-4782-b612-90a224bdacd0",
   "metadata": {},
   "outputs": [
    {
     "data": {
      "text/plain": [
       "1"
      ]
     },
     "execution_count": 191,
     "metadata": {},
     "output_type": "execute_result"
    }
   ],
   "source": [
    "t.count(2)"
   ]
  },
  {
   "cell_type": "code",
   "execution_count": 192,
   "id": "8bb66ed5-84ce-491f-9a65-2f9666d39331",
   "metadata": {},
   "outputs": [],
   "source": [
    "t = ('a', 'b', 'c', 'd')"
   ]
  },
  {
   "cell_type": "code",
   "execution_count": 193,
   "id": "0a54f403-116e-4fc7-bd28-07f2714d0c99",
   "metadata": {},
   "outputs": [
    {
     "data": {
      "text/plain": [
       "tuple"
      ]
     },
     "execution_count": 193,
     "metadata": {},
     "output_type": "execute_result"
    }
   ],
   "source": [
    "type(t)"
   ]
  },
  {
   "cell_type": "code",
   "execution_count": 194,
   "id": "8ba97e3c-35dd-42b5-9fe2-89b4d49e087e",
   "metadata": {},
   "outputs": [
    {
     "data": {
      "text/plain": [
       "1"
      ]
     },
     "execution_count": 194,
     "metadata": {},
     "output_type": "execute_result"
    }
   ],
   "source": [
    "t.count('c')"
   ]
  },
  {
   "cell_type": "code",
   "execution_count": 196,
   "id": "7226162a-73be-4a12-84e2-d1500bdce830",
   "metadata": {},
   "outputs": [
    {
     "data": {
      "text/plain": [
       "1"
      ]
     },
     "execution_count": 196,
     "metadata": {},
     "output_type": "execute_result"
    }
   ],
   "source": [
    "t.count('d')"
   ]
  },
  {
   "cell_type": "code",
   "execution_count": 197,
   "id": "1f700095-399b-41ab-8d3c-01c8e4494021",
   "metadata": {},
   "outputs": [
    {
     "data": {
      "text/plain": [
       "3"
      ]
     },
     "execution_count": 197,
     "metadata": {},
     "output_type": "execute_result"
    }
   ],
   "source": [
    "t.index('d')"
   ]
  },
  {
   "cell_type": "code",
   "execution_count": 198,
   "id": "b36cd689-c6cf-4078-98d4-cf7ea4dd9694",
   "metadata": {},
   "outputs": [
    {
     "data": {
      "text/plain": [
       "('a', 'b', 'c', 'd')"
      ]
     },
     "execution_count": 198,
     "metadata": {},
     "output_type": "execute_result"
    }
   ],
   "source": [
    "t"
   ]
  },
  {
   "cell_type": "code",
   "execution_count": null,
   "id": "c3e45cbb-f74c-4e19-8eea-2e71d7e78360",
   "metadata": {},
   "outputs": [],
   "source": []
  },
  {
   "cell_type": "code",
   "execution_count": 199,
   "id": "8e9791ab-6357-4855-9995-1e544dd3fc9e",
   "metadata": {},
   "outputs": [],
   "source": [
    "my_list = [1, 2, 3]"
   ]
  },
  {
   "cell_type": "code",
   "execution_count": 200,
   "id": "6967e18e-26a6-4967-bbca-85fa7959388b",
   "metadata": {},
   "outputs": [
    {
     "data": {
      "text/plain": [
       "list"
      ]
     },
     "execution_count": 200,
     "metadata": {},
     "output_type": "execute_result"
    }
   ],
   "source": [
    "type(my_list)"
   ]
  },
  {
   "cell_type": "markdown",
   "id": "4e32f4af-0042-4513-ad64-d688c0f2e226",
   "metadata": {},
   "source": [
    "# sets "
   ]
  },
  {
   "cell_type": "code",
   "execution_count": 201,
   "id": "6de9542c-4754-4b30-9ccc-a6dfa62d98cc",
   "metadata": {},
   "outputs": [],
   "source": [
    "myset = set()"
   ]
  },
  {
   "cell_type": "code",
   "execution_count": 202,
   "id": "7fbda03c-181f-4db4-bcc8-80cf5bc6da1e",
   "metadata": {},
   "outputs": [
    {
     "data": {
      "text/plain": [
       "set()"
      ]
     },
     "execution_count": 202,
     "metadata": {},
     "output_type": "execute_result"
    }
   ],
   "source": [
    "myset"
   ]
  },
  {
   "cell_type": "code",
   "execution_count": 203,
   "id": "ce2497c3-bea4-45a6-9361-06d15a801d72",
   "metadata": {},
   "outputs": [],
   "source": [
    "myset.add(1)"
   ]
  },
  {
   "cell_type": "code",
   "execution_count": 204,
   "id": "fb741bce-4284-43f6-97fb-89d7c631d33e",
   "metadata": {},
   "outputs": [
    {
     "data": {
      "text/plain": [
       "{1}"
      ]
     },
     "execution_count": 204,
     "metadata": {},
     "output_type": "execute_result"
    }
   ],
   "source": [
    "myset"
   ]
  },
  {
   "cell_type": "code",
   "execution_count": 205,
   "id": "e3d34b92-aeab-4530-a561-6a930611e6a3",
   "metadata": {},
   "outputs": [],
   "source": [
    "myset.add(5)"
   ]
  },
  {
   "cell_type": "code",
   "execution_count": 206,
   "id": "97b5e3c7-530f-4ed1-8aaf-73f828d7f94e",
   "metadata": {},
   "outputs": [
    {
     "data": {
      "text/plain": [
       "{1, 5}"
      ]
     },
     "execution_count": 206,
     "metadata": {},
     "output_type": "execute_result"
    }
   ],
   "source": [
    "myset"
   ]
  },
  {
   "cell_type": "code",
   "execution_count": 207,
   "id": "f52a6c62-ff9d-40c4-844b-949186d02e78",
   "metadata": {},
   "outputs": [],
   "source": [
    "my_list = [5, 9, 2]"
   ]
  },
  {
   "cell_type": "code",
   "execution_count": 209,
   "id": "b4f9ba48-fb73-4b76-97e2-5cd7a9437169",
   "metadata": {},
   "outputs": [],
   "source": [
    "myset.add(my_list[0])"
   ]
  },
  {
   "cell_type": "code",
   "execution_count": 210,
   "id": "d3c0e2ff-51cb-42e1-9e66-1fe65e5f7a4a",
   "metadata": {},
   "outputs": [
    {
     "data": {
      "text/plain": [
       "{1, 5}"
      ]
     },
     "execution_count": 210,
     "metadata": {},
     "output_type": "execute_result"
    }
   ],
   "source": [
    "myset"
   ]
  },
  {
   "cell_type": "code",
   "execution_count": 211,
   "id": "f5a891c1-0d36-4564-915e-84ca2052ab30",
   "metadata": {},
   "outputs": [
    {
     "data": {
      "text/plain": [
       "{2, 5, 9}"
      ]
     },
     "execution_count": 211,
     "metadata": {},
     "output_type": "execute_result"
    }
   ],
   "source": [
    "set(my_list)\n"
   ]
  },
  {
   "cell_type": "markdown",
   "id": "2598dc44-da17-4f7b-9a04-b7bc991714cc",
   "metadata": {},
   "source": [
    "# booleans"
   ]
  },
  {
   "cell_type": "code",
   "execution_count": 212,
   "id": "eeb88130-3190-4c61-9f5f-7bc5e32f3456",
   "metadata": {},
   "outputs": [
    {
     "data": {
      "text/plain": [
       "True"
      ]
     },
     "execution_count": 212,
     "metadata": {},
     "output_type": "execute_result"
    }
   ],
   "source": [
    "True"
   ]
  },
  {
   "cell_type": "code",
   "execution_count": 213,
   "id": "f996d895-c33b-4051-9afb-608afca58871",
   "metadata": {},
   "outputs": [
    {
     "data": {
      "text/plain": [
       "False"
      ]
     },
     "execution_count": 213,
     "metadata": {},
     "output_type": "execute_result"
    }
   ],
   "source": [
    "False"
   ]
  },
  {
   "cell_type": "code",
   "execution_count": 214,
   "id": "1728abfa-9eb5-4bba-8e91-aa99ae0347fc",
   "metadata": {},
   "outputs": [
    {
     "data": {
      "text/plain": [
       "False"
      ]
     },
     "execution_count": 214,
     "metadata": {},
     "output_type": "execute_result"
    }
   ],
   "source": [
    "1 > 2"
   ]
  },
  {
   "cell_type": "code",
   "execution_count": 215,
   "id": "2dce011d-72ae-40d8-9afa-ff573cd37b1a",
   "metadata": {},
   "outputs": [
    {
     "data": {
      "text/plain": [
       "True"
      ]
     },
     "execution_count": 215,
     "metadata": {},
     "output_type": "execute_result"
    }
   ],
   "source": [
    "1 == 1"
   ]
  },
  {
   "cell_type": "code",
   "execution_count": 217,
   "id": "b4ee4c7a-2f52-4057-b3a0-198dc7ca3bac",
   "metadata": {},
   "outputs": [
    {
     "data": {
      "text/plain": [
       "bool"
      ]
     },
     "execution_count": 217,
     "metadata": {},
     "output_type": "execute_result"
    }
   ],
   "source": [
    "type(False)\n"
   ]
  },
  {
   "cell_type": "code",
   "execution_count": 218,
   "id": "8540c65e-3bcb-49e8-8646-4f1966d216ab",
   "metadata": {},
   "outputs": [],
   "source": [
    "b = None"
   ]
  },
  {
   "cell_type": "code",
   "execution_count": 219,
   "id": "43b110dd-3003-4e7d-94fb-c82e0b529af8",
   "metadata": {},
   "outputs": [],
   "source": [
    "b "
   ]
  },
  {
   "cell_type": "code",
   "execution_count": null,
   "id": "21b007eb-eb44-4878-9247-9753bcfd39f5",
   "metadata": {},
   "outputs": [],
   "source": []
  }
 ],
 "metadata": {
  "kernelspec": {
   "display_name": "Python 3 (ipykernel)",
   "language": "python",
   "name": "python3"
  },
  "language_info": {
   "codemirror_mode": {
    "name": "ipython",
    "version": 3
   },
   "file_extension": ".py",
   "mimetype": "text/x-python",
   "name": "python",
   "nbconvert_exporter": "python",
   "pygments_lexer": "ipython3",
   "version": "3.13.1"
  }
 },
 "nbformat": 4,
 "nbformat_minor": 5
}
