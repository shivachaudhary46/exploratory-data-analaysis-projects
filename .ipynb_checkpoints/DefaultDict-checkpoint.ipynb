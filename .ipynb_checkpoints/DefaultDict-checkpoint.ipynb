{
 "cells": [
  {
   "cell_type": "markdown",
   "metadata": {},
   "source": [
    "# Default Dictionary \n",
    "- A sub class of dict class\n",
    "  Provide a default value for the key that does not exists\n",
    "- Never raised a KeyError\n",
    "- From collections import defaultdict\n",
    "- ***syntax***: defaultdict(default_factory)"
   ]
  },
  {
   "cell_type": "code",
   "execution_count": 2,
   "metadata": {},
   "outputs": [
    {
     "ename": "KeyError",
     "evalue": "4",
     "output_type": "error",
     "traceback": [
      "\u001b[0;31m---------------------------------------------------------------------------\u001b[0m",
      "\u001b[0;31mKeyError\u001b[0m                                  Traceback (most recent call last)",
      "Cell \u001b[0;32mIn[2], line 3\u001b[0m\n\u001b[1;32m      1\u001b[0m \u001b[38;5;66;03m#normal dictionary will raise the KeyError\u001b[39;00m\n\u001b[1;32m      2\u001b[0m new_dict \u001b[38;5;241m=\u001b[39m \u001b[38;5;28mdict\u001b[39m()\n\u001b[0;32m----> 3\u001b[0m \u001b[38;5;28mprint\u001b[39m(\u001b[43mnew_dict\u001b[49m\u001b[43m[\u001b[49m\u001b[38;5;241;43m4\u001b[39;49m\u001b[43m]\u001b[49m)\n",
      "\u001b[0;31mKeyError\u001b[0m: 4"
     ]
    }
   ],
   "source": [
    "#normal dictionary will raise the KeyError\n",
    "new_dict = dict()\n",
    "print(new_dict[4])"
   ]
  },
  {
   "cell_type": "code",
   "execution_count": 5,
   "metadata": {},
   "outputs": [
    {
     "name": "stdout",
     "output_type": "stream",
     "text": [
      "0\n"
     ]
    }
   ],
   "source": [
    "from collections import defaultdict \n",
    "\n",
    "new_defaultdict = defaultdict(int)\n",
    "print(new_defaultdict[4])\n"
   ]
  },
  {
   "cell_type": "code",
   "execution_count": 8,
   "metadata": {},
   "outputs": [
    {
     "name": "stdout",
     "output_type": "stream",
     "text": [
      "{'Five': {10, 5}, 'yellow': {'yellow'}, 'hunred': {200, 100}, 'six': set()}\n"
     ]
    }
   ],
   "source": [
    "from collections import defaultdict \n",
    "\n",
    "new_defaultdict = defaultdict(set)\n",
    "new_defaultdict['Five'].add(5)\n",
    "new_defaultdict['yellow'].add('yellow')\n",
    "new_defaultdict['hunred'].add(100)\n",
    "new_defaultdict['Five'].add(5*2)\n",
    "new_defaultdict['hunred'].add(100*2)\n",
    "new_defaultdict['six']\n",
    "\n",
    "print(dict(new_defaultdict.items()))"
   ]
  },
  {
   "cell_type": "code",
   "execution_count": 9,
   "metadata": {},
   "outputs": [
    {
     "data": {
      "text/plain": [
       "dict_items([('Five', {10, 5}), ('yellow', {'yellow'}), ('hunred', {200, 100}), ('six', set())])"
      ]
     },
     "execution_count": 9,
     "metadata": {},
     "output_type": "execute_result"
    }
   ],
   "source": [
    "new_defaultdict.items()"
   ]
  },
  {
   "cell_type": "code",
   "execution_count": 10,
   "metadata": {},
   "outputs": [
    {
     "name": "stdout",
     "output_type": "stream",
     "text": [
      "set()\n"
     ]
    }
   ],
   "source": [
    "print(new_defaultdict['six'])"
   ]
  },
  {
   "cell_type": "code",
   "execution_count": 12,
   "metadata": {},
   "outputs": [
    {
     "name": "stdout",
     "output_type": "stream",
     "text": [
      "{'Five': [5, 10], 'yellow': ['yellow'], 'hunred': [100, 200], 'six': []}\n"
     ]
    }
   ],
   "source": [
    "new_defaultdict = defaultdict(list)\n",
    "new_defaultdict['Five'].append(5)\n",
    "new_defaultdict['yellow'].append('yellow')\n",
    "new_defaultdict['hunred'].append(100)\n",
    "new_defaultdict['Five'].append(5*2)\n",
    "new_defaultdict['hunred'].append(100*2)\n",
    "new_defaultdict['six']\n",
    "\n",
    "print(dict(new_defaultdict.items()))"
   ]
  },
  {
   "cell_type": "code",
   "execution_count": null,
   "metadata": {},
   "outputs": [],
   "source": []
  }
 ],
 "metadata": {
  "kernelspec": {
   "display_name": "Python 3 (ipykernel)",
   "language": "python",
   "name": "python3"
  },
  "language_info": {
   "codemirror_mode": {
    "name": "ipython",
    "version": 3
   },
   "file_extension": ".py",
   "mimetype": "text/x-python",
   "name": "python",
   "nbconvert_exporter": "python",
   "pygments_lexer": "ipython3",
   "version": "3.13.1"
  }
 },
 "nbformat": 4,
 "nbformat_minor": 4
}
