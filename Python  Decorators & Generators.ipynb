{
 "cells": [
  {
   "cell_type": "code",
   "execution_count": 1,
   "id": "6378f82d-1b22-4fe4-bf81-752de859b65c",
   "metadata": {},
   "outputs": [],
   "source": [
    "def func():\n",
    "    return 1"
   ]
  },
  {
   "cell_type": "code",
   "execution_count": 2,
   "id": "f13eabe2-13d5-4b45-98ca-8424d796d948",
   "metadata": {},
   "outputs": [
    {
     "data": {
      "text/plain": [
       "1"
      ]
     },
     "execution_count": 2,
     "metadata": {},
     "output_type": "execute_result"
    }
   ],
   "source": [
    "func()"
   ]
  },
  {
   "cell_type": "code",
   "execution_count": 3,
   "id": "2ecf1aad-d241-4dda-820f-118d883b6026",
   "metadata": {},
   "outputs": [],
   "source": [
    "def hello():\n",
    "    return 'hello'\n"
   ]
  },
  {
   "cell_type": "code",
   "execution_count": 4,
   "id": "fbcbdaac-79d5-4c3f-8298-dc970bf7faa3",
   "metadata": {},
   "outputs": [
    {
     "data": {
      "text/plain": [
       "'hello'"
      ]
     },
     "execution_count": 4,
     "metadata": {},
     "output_type": "execute_result"
    }
   ],
   "source": [
    "hello()"
   ]
  },
  {
   "cell_type": "code",
   "execution_count": 5,
   "id": "b8538cde-377f-4955-931a-a5a4931dd259",
   "metadata": {},
   "outputs": [],
   "source": [
    "greet = 'hello'"
   ]
  },
  {
   "cell_type": "code",
   "execution_count": 7,
   "id": "77ed16d3-c50c-469e-b494-4f7e4e8b596a",
   "metadata": {},
   "outputs": [
    {
     "data": {
      "text/plain": [
       "'hello'"
      ]
     },
     "execution_count": 7,
     "metadata": {},
     "output_type": "execute_result"
    }
   ],
   "source": [
    "greet"
   ]
  },
  {
   "cell_type": "code",
   "execution_count": 8,
   "id": "44a82e73-8f85-4c22-b877-4a6332b6ae98",
   "metadata": {},
   "outputs": [],
   "source": [
    "def hello(name = 'jose'):\n",
    "    print('The hello() function has been executed!')\n",
    "\n",
    "    def greet():\n",
    "        return '\\n This is the greet() func inside hello!'\n",
    "\n",
    "    def welcome():\n",
    "        return '\\n This is welcome() function inside hello!'\n",
    "\n",
    "    print(\"I am going to return a function !\")\n",
    "\n",
    "    if name == 'Jose' :\n",
    "        return greet\n",
    "    else :\n",
    "        return welcome\n",
    "        "
   ]
  },
  {
   "cell_type": "code",
   "execution_count": 9,
   "id": "267bc9be-7a39-4e41-b8e0-d4057c245247",
   "metadata": {},
   "outputs": [
    {
     "name": "stdout",
     "output_type": "stream",
     "text": [
      "The hello() function has been executed!\n",
      "I am going to return a function !\n"
     ]
    }
   ],
   "source": [
    "my_new_func = hello('shiva')"
   ]
  },
  {
   "cell_type": "code",
   "execution_count": 10,
   "id": "98327cda-5d18-4761-80be-0b54d6470de1",
   "metadata": {},
   "outputs": [
    {
     "name": "stdout",
     "output_type": "stream",
     "text": [
      "<function hello.<locals>.welcome at 0x108b23240>\n"
     ]
    }
   ],
   "source": [
    "print(my_new_func)"
   ]
  },
  {
   "cell_type": "code",
   "execution_count": 11,
   "id": "87912c22-80d5-4414-92b8-7c5dc985a83f",
   "metadata": {},
   "outputs": [
    {
     "name": "stdout",
     "output_type": "stream",
     "text": [
      "The hello() function has been executed!\n",
      "I am going to return a function !\n"
     ]
    },
    {
     "data": {
      "text/plain": [
       "<function __main__.hello.<locals>.greet()>"
      ]
     },
     "execution_count": 11,
     "metadata": {},
     "output_type": "execute_result"
    }
   ],
   "source": [
    "hello('Jose')"
   ]
  },
  {
   "cell_type": "code",
   "execution_count": 12,
   "id": "796d4e2f-013a-4f7b-839c-fadf139bd9bd",
   "metadata": {},
   "outputs": [],
   "source": [
    "def other(some_def_func):\n",
    "    print('Other code runs heree!')\n",
    "    print(some_def_func())"
   ]
  },
  {
   "cell_type": "code",
   "execution_count": 13,
   "id": "ef68ea43-2065-4cc0-b6fc-9295a224b253",
   "metadata": {},
   "outputs": [
    {
     "name": "stdout",
     "output_type": "stream",
     "text": [
      "Other code runs heree!\n",
      "The hello() function has been executed!\n",
      "I am going to return a function !\n",
      "<function hello.<locals>.welcome at 0x108b237e0>\n"
     ]
    }
   ],
   "source": [
    "other(hello)"
   ]
  },
  {
   "cell_type": "code",
   "execution_count": 16,
   "id": "6e9fd55d-1b06-4587-a899-bba946993e7a",
   "metadata": {},
   "outputs": [],
   "source": [
    "def myFunction():\n",
    "    print('we are going to call this function inside other function')\n"
   ]
  },
  {
   "cell_type": "code",
   "execution_count": 18,
   "id": "fa323187-8c95-40be-9a40-d71b7706335f",
   "metadata": {},
   "outputs": [],
   "source": [
    "def otherFunction(func):\n",
    "    print(func())"
   ]
  },
  {
   "cell_type": "code",
   "execution_count": 19,
   "id": "f45fa886-a129-45c9-bcf9-842f14f3f9b9",
   "metadata": {},
   "outputs": [
    {
     "name": "stdout",
     "output_type": "stream",
     "text": [
      "we are going to call this function inside other function\n",
      "None\n"
     ]
    }
   ],
   "source": [
    "otherFunction(myFunction)"
   ]
  },
  {
   "cell_type": "code",
   "execution_count": null,
   "id": "40c98c11-9d22-40ce-8cc0-6cbadffb7396",
   "metadata": {},
   "outputs": [],
   "source": []
  }
 ],
 "metadata": {
  "kernelspec": {
   "display_name": "Python 3 (ipykernel)",
   "language": "python",
   "name": "python3"
  },
  "language_info": {
   "codemirror_mode": {
    "name": "ipython",
    "version": 3
   },
   "file_extension": ".py",
   "mimetype": "text/x-python",
   "name": "python",
   "nbconvert_exporter": "python",
   "pygments_lexer": "ipython3",
   "version": "3.13.1"
  }
 },
 "nbformat": 4,
 "nbformat_minor": 5
}
