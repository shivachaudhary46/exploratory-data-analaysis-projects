{
 "cells": [
  {
   "cell_type": "markdown",
   "id": "d3e9326e-941c-4463-9129-d0faac8f6c4d",
   "metadata": {},
   "source": [
    "# Counters \n",
    "- A sub-class available inside the dictionary class\n",
    "- Hold the count of each of the elements present in the container\n",
    "- Count the items in an iterable and another count\n",
    "- from collections import Counter\n",
    "- ***syntax:*** Counter(name)"
   ]
  },
  {
   "cell_type": "code",
   "execution_count": 1,
   "id": "ebfdd163-159d-4021-88ee-1d904cb3c542",
   "metadata": {},
   "outputs": [
    {
     "name": "stdout",
     "output_type": "stream",
     "text": [
      "Counter({'c': 5, 'b': 4, 'a': 3})\n"
     ]
    }
   ],
   "source": [
    "from collections import Counter\n",
    "\n",
    "new_list = ['a', 'a', 'a', 'b', 'b', 'b', 'b', 'c', 'c', 'c', 'c', 'c']\n",
    "new_counter = Counter(new_list)\n",
    "print(new_counter)"
   ]
  },
  {
   "cell_type": "code",
   "execution_count": 2,
   "id": "c089c13e-beda-4b18-b961-4611eda4ce01",
   "metadata": {},
   "outputs": [
    {
     "name": "stdout",
     "output_type": "stream",
     "text": [
      "Counter({' ': 5, 'a': 4, 'i': 3, 'h': 3, 'm': 2, 'y': 2, 's': 2, 'H': 1, 'n': 1, 'e': 1, 'v': 1, 'c': 1, 'u': 1, 'd': 1, 'r': 1})\n"
     ]
    }
   ],
   "source": [
    "#counter with string \n",
    "\n",
    "new_str = \"Hi my name is shiva chaudhary\"\n",
    "print(Counter(new_str))"
   ]
  },
  {
   "cell_type": "code",
   "execution_count": null,
   "id": "f5b7856d-e30b-4943-acdc-7c97abc4d5b0",
   "metadata": {},
   "outputs": [],
   "source": [
    ".."
   ]
  }
 ],
 "metadata": {
  "kernelspec": {
   "display_name": "Python 3 (ipykernel)",
   "language": "python",
   "name": "python3"
  },
  "language_info": {
   "codemirror_mode": {
    "name": "ipython",
    "version": 3
   },
   "file_extension": ".py",
   "mimetype": "text/x-python",
   "name": "python",
   "nbconvert_exporter": "python",
   "pygments_lexer": "ipython3",
   "version": "3.13.1"
  }
 },
 "nbformat": 4,
 "nbformat_minor": 5
}
